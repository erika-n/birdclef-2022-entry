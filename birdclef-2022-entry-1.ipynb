{
 "cells": [
  {
   "cell_type": "markdown",
   "id": "dea1d105",
   "metadata": {
    "papermill": {
     "duration": 0.005185,
     "end_time": "2022-03-30T19:48:03.273287",
     "exception": false,
     "start_time": "2022-03-30T19:48:03.268102",
     "status": "completed"
    },
    "tags": []
   },
   "source": [
    "Model"
   ]
  },
  {
   "cell_type": "code",
   "execution_count": 2,
   "id": "10f2a764",
   "metadata": {
    "execution": {
     "iopub.execute_input": "2022-03-30T19:48:03.287880Z",
     "iopub.status.busy": "2022-03-30T19:48:03.286334Z",
     "iopub.status.idle": "2022-03-30T19:48:04.674319Z",
     "shell.execute_reply": "2022-03-30T19:48:04.673749Z",
     "shell.execute_reply.started": "2022-03-30T19:47:13.983659Z"
    },
    "papermill": {
     "duration": 1.396163,
     "end_time": "2022-03-30T19:48:04.674465",
     "exception": false,
     "start_time": "2022-03-30T19:48:03.278302",
     "status": "completed"
    },
    "tags": []
   },
   "outputs": [],
   "source": [
    "\n",
    "\n",
    "import torch.nn as nn\n",
    "import torch.nn.functional as F\n",
    "\n",
    "\n",
    "class BirdConv1d(nn.Module):\n",
    "    def __init__(self, n_input=1, n_output=35, stride=16, n_channel=200):\n",
    "        super().__init__()\n",
    "        self.conv1 = nn.Conv1d(n_input, n_channel, kernel_size=80, stride=stride)\n",
    "        self.bn1 = nn.BatchNorm1d(n_channel)\n",
    "        self.pool1 = nn.MaxPool1d(4)\n",
    "        self.conv2 = nn.Conv1d(n_channel, n_channel, kernel_size=3)\n",
    "        self.bn2 = nn.BatchNorm1d(n_channel)\n",
    "        self.pool2 = nn.MaxPool1d(4)\n",
    "        self.conv3 = nn.Conv1d(n_channel, 2 * n_channel, kernel_size=3)\n",
    "        self.bn3 = nn.BatchNorm1d(2 * n_channel)\n",
    "        self.pool3 = nn.MaxPool1d(4)\n",
    "        self.conv4 = nn.Conv1d(2 * n_channel, 2 * n_channel, kernel_size=3)\n",
    "        self.bn4 = nn.BatchNorm1d(2 * n_channel)\n",
    "        self.pool4 = nn.MaxPool1d(4)\n",
    "        self.fc1 = nn.Linear(2 * n_channel, n_output)\n",
    "\n",
    "    def forward(self, x):\n",
    "        #print('start of foward', x.size())\n",
    "        x = self.conv1(x)\n",
    "        x = F.relu(self.bn1(x))\n",
    "        x = self.pool1(x)\n",
    "        x = self.conv2(x)\n",
    "        x = F.relu(self.bn2(x))\n",
    "        x = self.pool2(x)\n",
    "        x = self.conv3(x)\n",
    "        x = F.relu(self.bn3(x))\n",
    "        x = self.pool3(x)\n",
    "        x = self.conv4(x)\n",
    "        x = F.relu(self.bn4(x))\n",
    "        x = self.pool4(x)\n",
    "        #print('after pool4', x.size())\n",
    "        x = F.avg_pool1d(x, x.shape[-1])\n",
    "        #print('after avg_pool1d', x.size())\n",
    "        x = x.permute(0, 2, 1)\n",
    "        #print('after permute', x.size())\n",
    "        x = self.fc1(x)\n",
    "        #print('after fc1', x.size())\n",
    "  \n",
    "        return F.log_softmax(x, dim=2)"
   ]
  },
  {
   "cell_type": "code",
   "execution_count": 1,
   "id": "5273afac",
   "metadata": {
    "execution": {
     "iopub.execute_input": "2022-03-30T19:48:04.697061Z",
     "iopub.status.busy": "2022-03-30T19:48:04.696267Z",
     "iopub.status.idle": "2022-03-30T19:48:04.832590Z",
     "shell.execute_reply": "2022-03-30T19:48:04.832077Z",
     "shell.execute_reply.started": "2022-03-30T19:47:18.496597Z"
    },
    "papermill": {
     "duration": 0.15353,
     "end_time": "2022-03-30T19:48:04.832758",
     "exception": false,
     "start_time": "2022-03-30T19:48:04.679228",
     "status": "completed"
    },
    "tags": []
   },
   "outputs": [],
   "source": [
    "import torchaudio\n",
    "import torch\n",
    "import json\n",
    "import pandas as pd\n",
    "\n",
    "import os\n",
    "from os import listdir\n",
    "\n",
    "\n",
    "def classify_file(soundscape_dir, soundscape_file, row_id, target):\n",
    "\n",
    "    soundscape_name = soundscape_file[:-4]\n",
    "    soundscape, rate = torchaudio.load(os.path.join(soundscape_dir, soundscape_file))\n",
    "    soundscape = soundscape[0]\n",
    "\n",
    "    segments = int((soundscape.shape[0]/rate)/seconds_per_segment)\n",
    "\n",
    "\n",
    "    current_birds = [\"brnowl\", \"comsan\",\"houspa\",\"mallar3\",\"norcar\",\"skylar\",\"dunlin\",\"gnwtea\",\"bcnher\",\n",
    "    \"normoc\",\n",
    "    \"wesmea\",\n",
    "    \"eurwig\",\n",
    "    \"houfin\",\n",
    "    \"cangoo\",\n",
    "    \"rorpar\",\n",
    "    \"gwfgoo\",\n",
    "    \"bkbplo\",\n",
    "    \"rinphe\",\n",
    "    \"gadwal\",\n",
    "    \"osprey\",\n",
    "    \"commyn\",\n",
    "    \n",
    "    \"akiapo\", \"aniani\", \"apapan\", \"barpet\", \"crehon\", \"elepai\", \"ercfra\", \n",
    "    \"hawama\", \"hawcre\", \"hawgoo\", \"hawhaw\", \"hawpet1\", \"houfin\", \"iiwi\", \n",
    "    \"jabwar\", \"maupar\", \"omao\", \"puaioh\", \"skylar\", \"warwhe1\", \"yefcan\"\n",
    "\n",
    "    ]\n",
    "    \n",
    "\n",
    "    current_scored_birds = []\n",
    "    with open(\"../input/birdclef-2022/scored_birds.json\") as f:\n",
    "        current_scored_birds = json.load(f)\n",
    "    current_scored_birds = sorted(current_scored_birds)\n",
    "\n",
    "\n",
    "    model = BirdConv1d(n_input=1, n_output=len(current_birds))\n",
    "    model.load_state_dict(torch.load('../input/birdclef-2022-model-1/birds_1d'))\n",
    "    model.eval()\n",
    "    tests_per_segment = int(5*rate/n_samples)\n",
    "\n",
    "\n",
    "\n",
    "\n",
    "    for i in range(segments):\n",
    "        found = {}\n",
    "        for j in range(tests_per_segment):\n",
    "            start = i*seconds_per_segment*rate + j*n_samples\n",
    "            end = start + n_samples\n",
    "            track = soundscape[start:end]\n",
    "            track = track.reshape((1,1, -1))\n",
    "            track = torch.tensor(track).float()\n",
    "            model = model.float()\n",
    "            output = model(track)\n",
    "            text_label = current_birds[int(torch.argmax(output))]\n",
    "            found[text_label] = True\n",
    "\n",
    "        for bird in current_scored_birds:\n",
    "            row_id.append(soundscape_name + \"_\" + bird + \"_\" + str(i*5 + 5) )\n",
    "            if bird in list(found.keys()):\n",
    "                target.append(True)\n",
    "            else:\n",
    "                target.append(False)\n",
    "\n",
    "\n"
   ]
  },
  {
   "cell_type": "code",
   "execution_count": 3,
   "id": "986fb19f",
   "metadata": {
    "execution": {
     "iopub.execute_input": "2022-03-30T19:48:04.854039Z",
     "iopub.status.busy": "2022-03-30T19:48:04.853181Z",
     "iopub.status.idle": "2022-03-30T19:48:08.984963Z",
     "shell.execute_reply": "2022-03-30T19:48:08.985506Z",
     "shell.execute_reply.started": "2022-03-30T19:47:22.065182Z"
    },
    "papermill": {
     "duration": 4.14802,
     "end_time": "2022-03-30T19:48:08.985752",
     "exception": false,
     "start_time": "2022-03-30T19:48:04.837732",
     "status": "completed"
    },
    "tags": []
   },
   "outputs": [
    {
     "ename": "FileNotFoundError",
     "evalue": "[WinError 3] The system cannot find the path specified: '../input/birdclef-2022/test_soundscapes'",
     "output_type": "error",
     "traceback": [
      "\u001b[1;31m---------------------------------------------------------------------------\u001b[0m",
      "\u001b[1;31mFileNotFoundError\u001b[0m                         Traceback (most recent call last)",
      "\u001b[1;32m~\\AppData\\Local\\Temp/ipykernel_14720/3079353279.py\u001b[0m in \u001b[0;36m<module>\u001b[1;34m\u001b[0m\n\u001b[0;32m      4\u001b[0m \u001b[1;33m\u001b[0m\u001b[0m\n\u001b[0;32m      5\u001b[0m \u001b[0msoundscape_dir\u001b[0m \u001b[1;33m=\u001b[0m \u001b[1;34m'../input/birdclef-2022/test_soundscapes'\u001b[0m\u001b[1;33m\u001b[0m\u001b[1;33m\u001b[0m\u001b[0m\n\u001b[1;32m----> 6\u001b[1;33m \u001b[0msoundscape_files\u001b[0m \u001b[1;33m=\u001b[0m \u001b[1;33m[\u001b[0m\u001b[0mf\u001b[0m \u001b[1;32mfor\u001b[0m \u001b[0mf\u001b[0m \u001b[1;32min\u001b[0m \u001b[0mlistdir\u001b[0m\u001b[1;33m(\u001b[0m\u001b[0msoundscape_dir\u001b[0m\u001b[1;33m)\u001b[0m \u001b[1;32mif\u001b[0m \u001b[1;33m(\u001b[0m\u001b[0mf\u001b[0m\u001b[1;33m[\u001b[0m\u001b[1;33m-\u001b[0m\u001b[1;36m4\u001b[0m\u001b[1;33m:\u001b[0m\u001b[1;33m]\u001b[0m \u001b[1;33m==\u001b[0m \u001b[1;34m\".ogg\"\u001b[0m\u001b[1;33m)\u001b[0m\u001b[1;33m]\u001b[0m\u001b[1;33m\u001b[0m\u001b[1;33m\u001b[0m\u001b[0m\n\u001b[0m\u001b[0;32m      7\u001b[0m \u001b[1;33m\u001b[0m\u001b[0m\n\u001b[0;32m      8\u001b[0m \u001b[0mrow_id\u001b[0m \u001b[1;33m=\u001b[0m \u001b[1;33m[\u001b[0m\u001b[1;33m]\u001b[0m\u001b[1;33m\u001b[0m\u001b[1;33m\u001b[0m\u001b[0m\n",
      "\u001b[1;31mFileNotFoundError\u001b[0m: [WinError 3] The system cannot find the path specified: '../input/birdclef-2022/test_soundscapes'"
     ]
    }
   ],
   "source": [
    "\n",
    "\n",
    "rate = 32000\n",
    "n_samples = 10000\n",
    "seconds_per_segment = 5\n",
    "\n",
    "soundscape_dir = '../input/birdclef-2022/test_soundscapes'\n",
    "soundscape_files = [f for f in listdir(soundscape_dir) if (f[-4:] == \".ogg\")]\n",
    "\n",
    "row_id = []\n",
    "target = []\n",
    "\n",
    "\n",
    "for soundscape_file in soundscape_files:\n",
    "    print(\"classifying file \", soundscape_file)\n",
    "    classify_file(soundscape_dir, soundscape_file, row_id, target)\n",
    "\n",
    "d = {'row_id': row_id, 'target': target}\n",
    "pdscore = pd.DataFrame(d)\n",
    "pdscore.to_csv('submission.csv', index=False)\n",
    "\n",
    "\n"
   ]
  },
  {
   "cell_type": "code",
   "execution_count": null,
   "id": "576723a2",
   "metadata": {},
   "outputs": [],
   "source": []
  }
 ],
 "metadata": {
  "kernelspec": {
   "display_name": "Python 3 (ipykernel)",
   "language": "python",
   "name": "python3"
  },
  "language_info": {
   "codemirror_mode": {
    "name": "ipython",
    "version": 3
   },
   "file_extension": ".py",
   "mimetype": "text/x-python",
   "name": "python",
   "nbconvert_exporter": "python",
   "pygments_lexer": "ipython3",
   "version": "3.9.7"
  },
  "papermill": {
   "default_parameters": {},
   "duration": 15.139118,
   "end_time": "2022-03-30T19:48:10.210365",
   "environment_variables": {},
   "exception": null,
   "input_path": "__notebook__.ipynb",
   "output_path": "__notebook__.ipynb",
   "parameters": {},
   "start_time": "2022-03-30T19:47:55.071247",
   "version": "2.3.3"
  }
 },
 "nbformat": 4,
 "nbformat_minor": 5
}
