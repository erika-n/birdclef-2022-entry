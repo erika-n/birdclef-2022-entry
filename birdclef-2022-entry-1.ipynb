{
 "cells": [
  {
   "cell_type": "markdown",
   "id": "342f8b10",
   "metadata": {
    "papermill": {
     "duration": 0.005539,
     "end_time": "2022-03-31T00:16:40.566305",
     "exception": false,
     "start_time": "2022-03-31T00:16:40.560766",
     "status": "completed"
    },
    "tags": []
   },
   "source": [
    "Model"
   ]
  },
  {
   "cell_type": "code",
   "execution_count": 1,
   "id": "440b403a",
   "metadata": {
    "execution": {
     "iopub.execute_input": "2022-03-31T00:16:40.595825Z",
     "iopub.status.busy": "2022-03-31T00:16:40.588583Z",
     "iopub.status.idle": "2022-03-31T00:16:42.311254Z",
     "shell.execute_reply": "2022-03-31T00:16:42.310264Z",
     "shell.execute_reply.started": "2022-03-31T00:14:52.317733Z"
    },
    "papermill": {
     "duration": 1.738713,
     "end_time": "2022-03-31T00:16:42.311413",
     "exception": false,
     "start_time": "2022-03-31T00:16:40.572700",
     "status": "completed"
    },
    "tags": []
   },
   "outputs": [],
   "source": [
    "\n",
    "\n",
    "import torch.nn as nn\n",
    "import torch.nn.functional as F\n",
    "\n",
    "\n",
    "class BirdConv1d(nn.Module):\n",
    "    def __init__(self, n_input=1, n_output=35, stride=16, n_channel=200):\n",
    "        super().__init__()\n",
    "        self.conv1 = nn.Conv1d(n_input, n_channel, kernel_size=80, stride=stride)\n",
    "        self.bn1 = nn.BatchNorm1d(n_channel)\n",
    "        self.pool1 = nn.MaxPool1d(4)\n",
    "        self.conv2 = nn.Conv1d(n_channel, n_channel, kernel_size=3)\n",
    "        self.bn2 = nn.BatchNorm1d(n_channel)\n",
    "        self.pool2 = nn.MaxPool1d(4)\n",
    "        self.conv3 = nn.Conv1d(n_channel, 2 * n_channel, kernel_size=3)\n",
    "        self.bn3 = nn.BatchNorm1d(2 * n_channel)\n",
    "        self.pool3 = nn.MaxPool1d(4)\n",
    "        self.conv4 = nn.Conv1d(2 * n_channel, 2 * n_channel, kernel_size=3)\n",
    "        self.bn4 = nn.BatchNorm1d(2 * n_channel)\n",
    "        self.pool4 = nn.MaxPool1d(4)\n",
    "        self.fc1 = nn.Linear(2 * n_channel, n_output)\n",
    "\n",
    "    def forward(self, x):\n",
    "        #print('start of foward', x.size())\n",
    "        x = self.conv1(x)\n",
    "        x = F.relu(self.bn1(x))\n",
    "        x = self.pool1(x)\n",
    "        x = self.conv2(x)\n",
    "        x = F.relu(self.bn2(x))\n",
    "        x = self.pool2(x)\n",
    "        x = self.conv3(x)\n",
    "        x = F.relu(self.bn3(x))\n",
    "        x = self.pool3(x)\n",
    "        x = self.conv4(x)\n",
    "        x = F.relu(self.bn4(x))\n",
    "        x = self.pool4(x)\n",
    "        #print('after pool4', x.size())\n",
    "        x = F.avg_pool1d(x, x.shape[-1])\n",
    "        #print('after avg_pool1d', x.size())\n",
    "        x = x.permute(0, 2, 1)\n",
    "        #print('after permute', x.size())\n",
    "        x = self.fc1(x)\n",
    "        #print('after fc1', x.size())\n",
    "  \n",
    "        return F.log_softmax(x, dim=2)"
   ]
  },
  {
   "cell_type": "code",
   "execution_count": 2,
   "id": "10ef9efb",
   "metadata": {
    "execution": {
     "iopub.execute_input": "2022-03-31T00:16:42.334003Z",
     "iopub.status.busy": "2022-03-31T00:16:42.333289Z",
     "iopub.status.idle": "2022-03-31T00:16:42.429082Z",
     "shell.execute_reply": "2022-03-31T00:16:42.428582Z",
     "shell.execute_reply.started": "2022-03-31T00:14:53.856745Z"
    },
    "papermill": {
     "duration": 0.113088,
     "end_time": "2022-03-31T00:16:42.429246",
     "exception": false,
     "start_time": "2022-03-31T00:16:42.316158",
     "status": "completed"
    },
    "tags": []
   },
   "outputs": [],
   "source": [
    "import torchaudio\n",
    "import torch\n",
    "import json\n",
    "import pandas as pd\n",
    "\n",
    "import os\n",
    "from os import listdir\n",
    "\n",
    "\n",
    "def classify_file(soundscape_dir, soundscape_file, row_id, target):\n",
    "\n",
    "    soundscape_name = soundscape_file.split('.')[0]\n",
    "    soundscape, rate = torchaudio.load(os.path.join(soundscape_dir, soundscape_file))\n",
    "    soundscape = soundscape[0]\n",
    "\n",
    "    segments = int((soundscape.shape[0]/rate)/seconds_per_segment)\n",
    "\n",
    "\n",
    "    current_birds = [\"brnowl\", \"comsan\",\"houspa\",\"mallar3\",\"norcar\",\"skylar\",\"dunlin\",\"gnwtea\",\"bcnher\",\n",
    "    \"normoc\",\n",
    "    \"wesmea\",\n",
    "    \"eurwig\",\n",
    "    \"houfin\",\n",
    "    \"cangoo\",\n",
    "    \"rorpar\",\n",
    "    \"gwfgoo\",\n",
    "    \"bkbplo\",\n",
    "    \"rinphe\",\n",
    "    \"gadwal\",\n",
    "    \"osprey\",\n",
    "    \"commyn\",\n",
    "    \n",
    "    \"akiapo\", \"aniani\", \"apapan\", \"barpet\", \"crehon\", \"elepai\", \"ercfra\", \n",
    "    \"hawama\", \"hawcre\", \"hawgoo\", \"hawhaw\", \"hawpet1\", \"houfin\", \"iiwi\", \n",
    "    \"jabwar\", \"maupar\", \"omao\", \"puaioh\", \"skylar\", \"warwhe1\", \"yefcan\"\n",
    "\n",
    "    ]\n",
    "    \n",
    "    current_birds = sorted(current_birds)\n",
    "\n",
    "    current_scored_birds = []\n",
    "    with open(\"../input/birdclef-2022/scored_birds.json\") as f:\n",
    "        current_scored_birds = json.load(f)\n",
    "    current_scored_birds = sorted(current_scored_birds)\n",
    "\n",
    "\n",
    "    model = BirdConv1d(n_input=1, n_output=len(current_birds))\n",
    "    model.load_state_dict(torch.load('../input/birdclef-2022-model-1/birds_1d'))\n",
    "    model.eval()\n",
    "    tests_per_segment = 3\n",
    "\n",
    "\n",
    "\n",
    "\n",
    "    for i in range(segments):\n",
    "        found = {}\n",
    "        for j in range(tests_per_segment):\n",
    "            start = i*seconds_per_segment*rate + j*n_samples\n",
    "            end = start + n_samples\n",
    "            track = soundscape[start:end]\n",
    "            track = track.reshape((1,1, -1))\n",
    "            #track = torch.tensor(track).float()\n",
    "            model = model.float()\n",
    "            output = model(track)\n",
    "            text_label = current_birds[int(torch.argmax(output))]\n",
    "            found[text_label] = True\n",
    "\n",
    "        for bird in current_scored_birds:\n",
    "            row_id.append(soundscape_name + \"_\" + bird + \"_\" + str(i*5 + 5) )\n",
    "            if bird in list(found.keys()):\n",
    "                target.append(True)\n",
    "            else:\n",
    "                target.append(False)\n",
    "\n",
    "\n"
   ]
  },
  {
   "cell_type": "code",
   "execution_count": 3,
   "id": "2340a0aa",
   "metadata": {
    "execution": {
     "iopub.execute_input": "2022-03-31T00:16:42.444682Z",
     "iopub.status.busy": "2022-03-31T00:16:42.440455Z",
     "iopub.status.idle": "2022-03-31T00:16:45.917634Z",
     "shell.execute_reply": "2022-03-31T00:16:45.916729Z",
     "shell.execute_reply.started": "2022-03-31T00:15:43.259866Z"
    },
    "papermill": {
     "duration": 3.483729,
     "end_time": "2022-03-31T00:16:45.917775",
     "exception": false,
     "start_time": "2022-03-31T00:16:42.434046",
     "status": "completed"
    },
    "tags": []
   },
   "outputs": [
    {
     "name": "stdout",
     "output_type": "stream",
     "text": [
      "classifying file  soundscape_453028782.ogg\n"
     ]
    }
   ],
   "source": [
    "\n",
    "\n",
    "rate = 32000\n",
    "n_samples = 10000\n",
    "seconds_per_segment = 5\n",
    "\n",
    "soundscape_dir = '../input/birdclef-2022/test_soundscapes/'\n",
    "soundscape_files = [f for f in sorted(os.listdir(soundscape_dir))]\n",
    "\n",
    "\n",
    "row_id = []\n",
    "target = []\n",
    "\n",
    "\n",
    "for soundscape_file in soundscape_files:\n",
    "    print(\"classifying file \", soundscape_file)\n",
    "    classify_file(soundscape_dir, soundscape_file, row_id, target)\n",
    "\n",
    "d = {'row_id': row_id, 'target': target}\n",
    "pdscore = pd.DataFrame(d)\n",
    "pdscore.to_csv('submission.csv', index=False)\n",
    "\n",
    "\n"
   ]
  }
 ],
 "metadata": {
  "kernelspec": {
   "display_name": "Python 3",
   "language": "python",
   "name": "python3"
  },
  "language_info": {
   "codemirror_mode": {
    "name": "ipython",
    "version": 3
   },
   "file_extension": ".py",
   "mimetype": "text/x-python",
   "name": "python",
   "nbconvert_exporter": "python",
   "pygments_lexer": "ipython3",
   "version": "3.7.12"
  },
  "papermill": {
   "default_parameters": {},
   "duration": 14.524587,
   "end_time": "2022-03-31T00:16:47.033808",
   "environment_variables": {},
   "exception": null,
   "input_path": "__notebook__.ipynb",
   "output_path": "__notebook__.ipynb",
   "parameters": {},
   "start_time": "2022-03-31T00:16:32.509221",
   "version": "2.3.3"
  }
 },
 "nbformat": 4,
 "nbformat_minor": 5
}
